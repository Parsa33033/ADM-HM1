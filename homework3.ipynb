{
  "nbformat": 4,
  "nbformat_minor": 0,
  "metadata": {
    "colab": {
      "name": "homework3.ipynb",
      "provenance": [],
      "collapsed_sections": [],
      "include_colab_link": true
    },
    "kernelspec": {
      "name": "python3",
      "display_name": "Python 3"
    },
    "language_info": {
      "name": "python"
    }
  },
  "cells": [
    {
      "cell_type": "markdown",
      "metadata": {
        "id": "view-in-github",
        "colab_type": "text"
      },
      "source": [
        "<a href=\"https://colab.research.google.com/github/Parsa33033/ADM-HM1/blob/main/homework3.ipynb\" target=\"_parent\"><img src=\"https://colab.research.google.com/assets/colab-badge.svg\" alt=\"Open In Colab\"/></a>"
      ]
    },
    {
      "cell_type": "code",
      "metadata": {
        "colab": {
          "base_uri": "https://localhost:8080/"
        },
        "id": "CR-dxW-68OXP",
        "outputId": "f197a5c5-f6a8-4303-a0dd-7fd5215e53cc"
      },
      "source": [
        "from google.colab import drive, files\n",
        "drive.mount('/content/drive', force_remount = True)"
      ],
      "execution_count": null,
      "outputs": [
        {
          "output_type": "stream",
          "name": "stdout",
          "text": [
            "Mounted at /content/drive\n"
          ]
        }
      ]
    },
    {
      "cell_type": "code",
      "metadata": {
        "id": "rkVdjQff8ggD"
      },
      "source": [
        "import requests\n",
        "import os\n",
        "from bs4 import BeautifulSoup\n",
        "from tqdm import tqdm\n",
        "import urllib.request\n",
        "import pandas as pd\n",
        "import csv\n",
        "import re\n",
        "import urllib.parse as urlparse\n",
        "import time"
      ],
      "execution_count": 59,
      "outputs": []
    },
    {
      "cell_type": "code",
      "metadata": {
        "id": "5F7tX0Mi81Ir"
      },
      "source": [
        "num_of_pages = 384\n",
        "directory = \"drive/MyDrive/Colab Notebooks/ADM/HW3/\"\n",
        "links_file = \"anime.csv\""
      ],
      "execution_count": 31,
      "outputs": []
    },
    {
      "cell_type": "code",
      "metadata": {
        "colab": {
          "base_uri": "https://localhost:8080/"
        },
        "id": "rXKNsnC682xk",
        "outputId": "a9369342-4bc3-41aa-e9b8-d40eb636b0d0"
      },
      "source": [
        "anime = []\n",
        "\n",
        "                               \n",
        "if not os.path.isfile(links_file):\n",
        "    with open(directory + links_file, \"w\", encoding='utf-8', newline='') as fobj:\n",
        "        fobj.write(\"page,name,url\\n\")\n",
        "        for page in tqdm(range(0, num_of_pages)):\n",
        "            url = 'https://myanimelist.net/topanime.php?limit=' + str(page * 50)\n",
        "            response = requests.get(url)\n",
        "\n",
        "            soup = BeautifulSoup(response.text, 'html.parser')\n",
        "            for tag in soup.find_all('tr'):\n",
        "                links = tag.find_all('a')\n",
        "                for link in links:        \n",
        "                    if type(link.get('id')) == str and len(link.contents[0]) > 1:\n",
        "                        x = (page + 1, link.contents[0], link.get('href'))\n",
        "                        anime.append(x)\n",
        "                        writer = csv.writer(fobj)\n",
        "                        writer.writerow(x)"
      ],
      "execution_count": null,
      "outputs": [
        {
          "output_type": "stream",
          "name": "stderr",
          "text": [
            "100%|██████████| 384/384 [02:53<00:00,  2.21it/s]\n"
          ]
        }
      ]
    },
    {
      "cell_type": "code",
      "metadata": {
        "id": "ZYKNkYqf84p_",
        "colab": {
          "base_uri": "https://localhost:8080/",
          "height": 264
        },
        "outputId": "82b6bd03-2088-4b25-da8c-152586d6766b"
      },
      "source": [
        "pages_dir = directory + \"pages\"\n",
        "page_dir = pages_dir + \"/\" + \"page\"\n",
        "article = \"article\"\n",
        "if not os.path.exists(pages_dir):\n",
        "    os.makedirs(pages_dir)\n",
        "    \n",
        "def urlEncodeNonAscii(b):\n",
        "    return re.sub('[\\x80-\\xFF]', lambda c: '%%%02x' % ord(c.group(0)), b)\n",
        "\n",
        "ds = pd.read_csv(directory + links_file)\n",
        "i = 1\n",
        "for p, u in tqdm(zip(ds.page, ds.url)):\n",
        "    d = page_dir + str(p)\n",
        "    if not os.path.exists(d):\n",
        "        os.makedirs(d)\n",
        "    d = page_dir + str(p) + \"/\" + article + \"_\" + str(i) + \".html\"\n",
        "    \n",
        "    if not os.path.exists(d):\n",
        "        if str(request.status_code)[0] == '4':\n",
        "          while(True):\n",
        "            time.sleep(30)\n",
        "            request = requests.get(u, headers={'Cache-Control': 'no-cache'})\n",
        "            if str(request.status_code)[0] == '200': break\n",
        "        else:\n",
        "          request = requests.get(u, headers={'Cache-Control': 'no-cache'})\n",
        "        # fid = urllib.request.urlopen(u)\n",
        "        # webpage = fid.read().decode('utf-8')\n",
        "        with open(d, \"w\", encoding='utf-8') as fobj:\n",
        "            fobj.write(webpage)\n",
        "    i += 1"
      ],
      "execution_count": 61,
      "outputs": [
        {
          "output_type": "stream",
          "name": "stderr",
          "text": [
            "10887it [00:06, 1779.44it/s]\n"
          ]
        },
        {
          "output_type": "error",
          "ename": "NameError",
          "evalue": "ignored",
          "traceback": [
            "\u001b[0;31m---------------------------------------------------------------------------\u001b[0m",
            "\u001b[0;31mNameError\u001b[0m                                 Traceback (most recent call last)",
            "\u001b[0;32m<ipython-input-61-fa180ea546cb>\u001b[0m in \u001b[0;36m<module>\u001b[0;34m()\u001b[0m\n\u001b[1;32m     18\u001b[0m     \u001b[0;32mif\u001b[0m \u001b[0;32mnot\u001b[0m \u001b[0mos\u001b[0m\u001b[0;34m.\u001b[0m\u001b[0mpath\u001b[0m\u001b[0;34m.\u001b[0m\u001b[0mexists\u001b[0m\u001b[0;34m(\u001b[0m\u001b[0md\u001b[0m\u001b[0;34m)\u001b[0m\u001b[0;34m:\u001b[0m\u001b[0;34m\u001b[0m\u001b[0;34m\u001b[0m\u001b[0m\n\u001b[1;32m     19\u001b[0m         \u001b[0;32mif\u001b[0m \u001b[0mstr\u001b[0m\u001b[0;34m(\u001b[0m\u001b[0mrequest\u001b[0m\u001b[0;34m.\u001b[0m\u001b[0mstatus_code\u001b[0m\u001b[0;34m)\u001b[0m\u001b[0;34m[\u001b[0m\u001b[0;36m0\u001b[0m\u001b[0;34m]\u001b[0m \u001b[0;34m==\u001b[0m \u001b[0;34m'4'\u001b[0m\u001b[0;34m:\u001b[0m\u001b[0;34m\u001b[0m\u001b[0;34m\u001b[0m\u001b[0m\n\u001b[0;32m---> 20\u001b[0;31m           \u001b[0;32mwhile\u001b[0m\u001b[0;34m(\u001b[0m\u001b[0mtrue\u001b[0m\u001b[0;34m)\u001b[0m\u001b[0;34m:\u001b[0m\u001b[0;34m\u001b[0m\u001b[0;34m\u001b[0m\u001b[0m\n\u001b[0m\u001b[1;32m     21\u001b[0m             \u001b[0mtime\u001b[0m\u001b[0;34m.\u001b[0m\u001b[0msleep\u001b[0m\u001b[0;34m(\u001b[0m\u001b[0;36m30\u001b[0m\u001b[0;34m)\u001b[0m\u001b[0;34m\u001b[0m\u001b[0;34m\u001b[0m\u001b[0m\n\u001b[1;32m     22\u001b[0m             \u001b[0mrequest\u001b[0m \u001b[0;34m=\u001b[0m \u001b[0mrequests\u001b[0m\u001b[0;34m.\u001b[0m\u001b[0mget\u001b[0m\u001b[0;34m(\u001b[0m\u001b[0mu\u001b[0m\u001b[0;34m,\u001b[0m \u001b[0mheaders\u001b[0m\u001b[0;34m=\u001b[0m\u001b[0;34m{\u001b[0m\u001b[0;34m'Cache-Control'\u001b[0m\u001b[0;34m:\u001b[0m \u001b[0;34m'no-cache'\u001b[0m\u001b[0;34m}\u001b[0m\u001b[0;34m)\u001b[0m\u001b[0;34m\u001b[0m\u001b[0;34m\u001b[0m\u001b[0m\n",
            "\u001b[0;31mNameError\u001b[0m: name 'true' is not defined"
          ]
        }
      ]
    },
    {
      "cell_type": "code",
      "metadata": {
        "id": "I9WbbqyPD__n"
      },
      "source": [
        ""
      ],
      "execution_count": null,
      "outputs": []
    }
  ]
}